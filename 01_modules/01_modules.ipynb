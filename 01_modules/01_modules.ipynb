{
 "cells": [
  {
   "cell_type": "markdown",
   "metadata": {},
   "source": [
    "# Introduction\n",
    "\n",
    "In the python module system, files which contain python code for import are called **modules** and directories which contain several modules are called **packages**.\n",
    "\n",
    "![from https://realpython.com/](../img/python_package.png)\n",
    "\n",
    "<div style=\"border:3px solid; border-color:green; border-radius:1px; margin:10px;\">\n",
    "<div style=\"font-weight:bold;background-color:green; color:white; padding:5px; font-size:small;\">`In [ ]:`</div>\n",
    "\n",
    "```ipython\n",
    "import pkg                             # package.mod1.fuction()\n",
    "import pkg as p                        # p.mod1.fuction()\n",
    "\n",
    "from pkg import *                      # module1.function()\n",
    "from pkg import mod1, mod2, ...        # module1.function()\n",
    "import pkg.mod1 as m1                  # m1.function()\n",
    "\n",
    "from pkg.mod1 import function          # function()\n",
    "import pkg.mod1.function as f          # f()\n",
    "```\n",
    "\n",
    "</div>\n",
    "\n",
    "\n",
    "We will create a python module which contains a function and two variables.\n",
    "\n",
    "<div style=\"border:3px solid; border-color:lightslategray; border-radius:1px; margin:10px\">\n",
    "<div style=\"font-weight:bold; background-color:lightslategray; color:white; padding:5px;font-size:small;\">`nice_module.py`</div>\n",
    "\n",
    "```python\n",
    "import numpy as np\n",
    "import os\n",
    "\n",
    "# function\n",
    "def nice_function(text):\n",
    "    print(\"Given text is    '{}''\".format(text.upper()))\n",
    "\n",
    "    out = text[::-1].upper()\n",
    "    print(\"Inverted text is '{}'\".format(out))\n",
    "    return out\n",
    "\n",
    "# dictionary which maps AS 3 letter to 1 letter code \n",
    "nice_dictionary = {\n",
    "    'CYS': 'C', 'ASP': 'D', 'SER': 'S', 'GLN': 'Q', 'LYS': 'K',\n",
    "    'ILE': 'I', 'PRO': 'P', 'THR': 'T', 'PHE': 'F', 'ASN': 'N', \n",
    "    'GLY': 'G', 'HIS': 'H', 'LEU': 'L', 'ARG': 'R', 'TRP': 'W', \n",
    "    'ALA': 'A', 'VAL': 'V', 'GLU': 'E', 'TYR': 'Y', 'MET': 'M'\n",
    "}\n",
    "\n",
    "# numpy array loaded from file\n",
    "nice_data = np.loadtxt(os.path.join(os.path.dirname(__file__), \"reference.dat\"))\n",
    "```\n",
    "\n",
    "</div>"
   ]
  },
  {
   "cell_type": "markdown",
   "metadata": {},
   "source": [
    "Lets see what we have there..."
   ]
  },
  {
   "cell_type": "code",
   "execution_count": null,
   "metadata": {},
   "outputs": [],
   "source": []
  },
  {
   "cell_type": "code",
   "execution_count": null,
   "metadata": {},
   "outputs": [],
   "source": [
    "nice_function(\"A simple and sensless sentence.\")"
   ]
  },
  {
   "cell_type": "code",
   "execution_count": null,
   "metadata": {},
   "outputs": [],
   "source": [
    "[nice_dictionary[a] for a in [\"HIS\", \"GLU\", \"LEU\", \"LEU\", \"GLN\", \"TRP\", \"GLN\", \"ARG\", \"LEU\", \"ASP\"]]"
   ]
  },
  {
   "cell_type": "code",
   "execution_count": null,
   "metadata": {},
   "outputs": [],
   "source": [
    "import matplotlib.pyplot as plt\n",
    "plt.plot(nice_data[:,0], nice_data[:,1])\n",
    "plt.show()"
   ]
  },
  {
   "cell_type": "markdown",
   "metadata": {},
   "source": [
    "<div style=\"border-bottom:2px solid; width:100%; padding:10px;\"></div>"
   ]
  },
  {
   "cell_type": "markdown",
   "metadata": {},
   "source": [
    "# Make your code reusable"
   ]
  },
  {
   "cell_type": "markdown",
   "metadata": {},
   "source": [
    "## Module in working directory\n",
    "\n",
    "- create a file `nice_module.py`\n",
    "- paste everything which you want to reuse in this file\n",
    "\n",
    "\n",
    "<div style=\"border:3px solid; border-color:green; border-radius:1px; margin:10px;\">\n",
    "<div style=\"font-weight:bold;background-color:green; color:white; padding:5px; font-size:small;\">`In [ ]:`</div>\n",
    "\n",
    "```ipython\n",
    "import nice_module\n",
    "nice_module.nice_function(\"Text\")\n",
    "```\n",
    "\n",
    "</div>\n"
   ]
  },
  {
   "cell_type": "markdown",
   "metadata": {},
   "source": [
    "<div style=\"border-bottom:2px solid; width:100%; padding:10px;\"></div>"
   ]
  },
  {
   "cell_type": "markdown",
   "metadata": {},
   "source": [
    "## Module in sub-directory\n",
    "\n",
    "- create following directory structure inside of this tutorial directory\n",
    "```\n",
    "my_nice_modules\n",
    "    |-- __ini__.py          # empty file\n",
    "    |-- sub_nice_module.py  # python functions etc.\n",
    "    `-- reference.dat       # a data file\n",
    "```\n",
    "\n",
    "- try if this new module can be imported\n",
    "\n",
    "\n",
    "<div style=\"border:3px solid; border-color:green; border-radius:1px; margin:10px;\">\n",
    "<div style=\"font-weight:bold;background-color:green; color:white; padding:5px; font-size:small;\">`In [ ]:`</div>\n",
    "\n",
    "```ipython\n",
    "from my_nice_modules import sub_nice_module\n",
    "sub_nice_module.nice_function(\"Text\")\n",
    "```\n",
    "\n",
    "</div>"
   ]
  },
  {
   "cell_type": "markdown",
   "metadata": {},
   "source": [
    "<div style=\"border-bottom:2px solid; width:100%; padding:10px;\"></div>"
   ]
  },
  {
   "cell_type": "markdown",
   "metadata": {},
   "source": [
    "## Module in distant directory"
   ]
  },
  {
   "cell_type": "markdown",
   "metadata": {},
   "source": [
    "### Prepare repository\n",
    "- create a directory inside the root directory of this workshop `module_repository` which has the following structure\n",
    "```\n",
    "module_repository\n",
    "    |-- __ini__.py              # empty file\n",
    "    |-- distant_nice_module.py  # python functions etc.\n",
    "    `-- reference.dat           # a data file\n",
    "```"
   ]
  },
  {
   "cell_type": "markdown",
   "metadata": {},
   "source": [
    "### Method 1: Append to `sys.path`\n",
    "Add the path where to find your repository.\n",
    "\n",
    "<div style=\"border:3px solid; border-color:green; border-radius:1px; margin:10px;\">\n",
    "<div style=\"font-weight:bold;background-color:green; color:white; padding:5px; font-size:small;\">`In [ ]:`</div>\n",
    "\n",
    "```ipython\n",
    "import sys\n",
    "sys.append(\"/path_to_tutorial/workshop_python_modules\")\n",
    "sys.path\n",
    "\n",
    "from module_repository import distant_nice_module\n",
    "distant_nice_module.nice_function(\"Text\")\n",
    "```\n",
    "\n",
    "</div>"
   ]
  },
  {
   "cell_type": "markdown",
   "metadata": {},
   "source": [
    "### Method 2: Extend `$PYTHONPATH` global variable\n",
    "\n",
    "Add\n",
    "\n",
    "<div style=\"border:3px solid; border-color:green; border-radius:1px; margin:10px;\">\n",
    "<div style=\"font-weight:bold;background-color:green; color:white; padding:5px; font-size:small;\">`In [ ]:`</div>\n",
    "\n",
    "```ipython\n",
    "import sys\n",
    "sys.path\n",
    "```\n",
    "\n",
    "</div>\n",
    "\n",
    "\n",
    "<div style=\"border:3px solid; border-color:darkslategray; border-radius:1px; margin:10px;\">\n",
    "<div style=\"font-weight:bold;background-color:darkslategray; color:white; padding:5px; font-size:small;\">`$`</div>\n",
    "\n",
    "```bash\n",
    "export PYTHONPATH=\"/path_to_tutorial/workshop_python_modules:$PYTHONPATH\"\n",
    "```\n",
    "\n",
    "</div>\n",
    "\n",
    "<div style=\"border:3px solid; border-color:green; border-radius:1px; margin:10px;\">\n",
    "<div style=\"font-weight:bold;background-color:green; color:white; padding:5px; font-size:small;\">`In [ ]:`</div>\n",
    "\n",
    "```ipython\n",
    "import sys\n",
    "sys.path\n",
    "\n",
    "from module_repository import distant_nice_module\n",
    "distant_nice_module.nice_function(\"Text\")\n",
    "```\n",
    "\n",
    "</div>"
   ]
  },
  {
   "cell_type": "markdown",
   "metadata": {},
   "source": [
    "### Make your modules executable\n",
    "- Modify your module\n",
    "    - `#!/usr/bin/env python` tells which iterpreter should be used\n",
    "    - `if __name__ == '__main__':` is true when this file is executed but not if it is imported\n",
    "\n",
    "<div style=\"border:3px solid; border-color:lightslategray; border-radius:1px; margin:10px\">\n",
    "<div style=\"font-weight:bold; background-color:lightslategray; color:white; padding:5px;font-size:small;\">`distant_nice_module.py`</div>\n",
    "\n",
    "```python\n",
    "#!/usr/bin/env python\n",
    "\n",
    "# {{python code which should be available via import, functions etc.}}\n",
    "\n",
    "if __name__ == '__main__':\n",
    "    # code which should be executed\n",
    "    import sys\n",
    "    if sys.argv[1] == \"code\":\n",
    "        print(nice_dictionary)\n",
    "    if sys.argv[1] == \"data\":\n",
    "        print(nice_data)\n",
    "    \n",
    "```\n",
    "\n",
    "</div>\n",
    "\n",
    "<div style=\"border:3px solid; border-color:darkslategray; border-radius:1px; margin:10px;\">\n",
    "<div style=\"font-weight:bold;background-color:darkslategray; color:white; padding:5px; font-size:small;\">`$`</div>\n",
    "\n",
    "```bash\n",
    "chmod +x distant_nice_module.py\n",
    "export PATH=\"/path_to_tutorial/workshop_python_modules/module_repository:$PATH\"\n",
    "distant_nice_module.py\n",
    "```\n",
    "\n",
    "</div>"
   ]
  },
  {
   "cell_type": "markdown",
   "metadata": {},
   "source": [
    "### Add your repository to `.bashrc`\n",
    "\n",
    "- add export statements to your `.bashrc` file to make this changes permament\n",
    "\n",
    "<div style=\"border:3px solid; border-color:darkslategray; border-radius:1px; margin:10px;\">\n",
    "<div style=\"font-weight:bold;background-color:darkslategray; color:white; padding:5px; font-size:small;\">`$`</div>\n",
    "\n",
    "```bash\n",
    "echo '# python repository' >> ~/.bashrc\n",
    "echo 'export PYTHONPATH=\"/path_to_tutorial/workshop_python_modules:$PYTHONPATH\"' >> ~/.bashrc\n",
    "echo 'export PATH=\"/path_to_tutorial/workshop_python_modules:$PATH\"' >> ~/.bashrc\n",
    "\n",
    "```\n",
    "\n",
    "</div>"
   ]
  }
 ],
 "metadata": {
  "kernelspec": {
   "display_name": "Python 3",
   "language": "python",
   "name": "python3"
  },
  "language_info": {
   "codemirror_mode": {
    "name": "ipython",
    "version": 3
   },
   "file_extension": ".py",
   "mimetype": "text/x-python",
   "name": "python",
   "nbconvert_exporter": "python",
   "pygments_lexer": "ipython3",
   "version": "3.5.2"
  },
  "toc": {
   "base_numbering": 1,
   "nav_menu": {},
   "number_sections": true,
   "sideBar": true,
   "skip_h1_title": false,
   "title_cell": "Table of Contents",
   "title_sidebar": "Contents",
   "toc_cell": false,
   "toc_position": {},
   "toc_section_display": true,
   "toc_window_display": false
  }
 },
 "nbformat": 4,
 "nbformat_minor": 2
}
